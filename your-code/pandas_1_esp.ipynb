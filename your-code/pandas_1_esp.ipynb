{
 "cells": [
  {
   "cell_type": "markdown",
   "metadata": {},
   "source": [
    "# Laboratorio de Introducción a Pandas\n",
    "\n",
    "Completa el siguiente conjunto de ejercicios para consolidar tu conocimiento de los fundamentos de Pandas.\n",
    "\n",
    "### 1. Importa Numpy y Pandas y asígnalos los alias `np` y `pd` respectivamente."
   ]
  },
  {
   "cell_type": "code",
   "execution_count": 4,
   "metadata": {},
   "outputs": [],
   "source": [
    "import pandas as pd\n",
    "import numpy as np"
   ]
  },
  {
   "cell_type": "markdown",
   "metadata": {},
   "source": [
    "### 2. Crea una Serie de Pandas que contenga los elementos de la lista a continuación."
   ]
  },
  {
   "cell_type": "code",
   "execution_count": 5,
   "metadata": {},
   "outputs": [],
   "source": [
    "lst = [5.7, 75.2, 74.4, 84.0, 66.5, 66.3, 55.8, 75.7, 29.1, 43.7]"
   ]
  },
  {
   "cell_type": "code",
   "execution_count": 6,
   "metadata": {},
   "outputs": [
    {
     "name": "stdout",
     "output_type": "stream",
     "text": [
      "0     5.7\n",
      "1    75.2\n",
      "2    74.4\n",
      "3    84.0\n",
      "4    66.5\n",
      "5    66.3\n",
      "6    55.8\n",
      "7    75.7\n",
      "8    29.1\n",
      "9    43.7\n",
      "dtype: float64\n"
     ]
    }
   ],
   "source": [
    "serie = pd.Series(lst)\n",
    "print(serie)"
   ]
  },
  {
   "cell_type": "markdown",
   "metadata": {},
   "source": [
    "### 3. Usa la indexación para devolver el tercer valor en la Serie anterior.\n",
    "\n",
    "*Sugerencia: Recuerda que la indexación comienza en 0.*"
   ]
  },
  {
   "cell_type": "code",
   "execution_count": 7,
   "metadata": {},
   "outputs": [
    {
     "name": "stdout",
     "output_type": "stream",
     "text": [
      "74.4\n"
     ]
    }
   ],
   "source": [
    "print(serie[2])"
   ]
  },
  {
   "cell_type": "markdown",
   "metadata": {},
   "source": [
    "### 4. Crea un DataFrame de Pandas a partir de la lista de listas a continuación. Cada sublista debe representarse como una fila."
   ]
  },
  {
   "cell_type": "code",
   "execution_count": 9,
   "metadata": {},
   "outputs": [],
   "source": [
    "b = [[53.1, 95.0, 67.5, 35.0, 78.4],\n",
    "     [61.3, 40.8, 30.8, 37.8, 87.6],\n",
    "     [20.6, 73.2, 44.2, 14.6, 91.8],\n",
    "     [57.4, 0.1, 96.1, 4.2, 69.5],\n",
    "     [83.6, 20.5, 85.4, 22.8, 35.9],\n",
    "     [49.0, 69.0, 0.1, 31.8, 89.1],\n",
    "     [23.3, 40.7, 95.0, 83.8, 26.9],\n",
    "     [27.6, 26.4, 53.8, 88.8, 68.5],\n",
    "     [96.6, 96.4, 53.4, 72.4, 50.1],\n",
    "     [73.7, 39.0, 43.2, 81.6, 34.7]]"
   ]
  },
  {
   "cell_type": "code",
   "execution_count": 10,
   "metadata": {},
   "outputs": [
    {
     "name": "stdout",
     "output_type": "stream",
     "text": [
      "      0     1     2     3     4\n",
      "0  53.1  95.0  67.5  35.0  78.4\n",
      "1  61.3  40.8  30.8  37.8  87.6\n",
      "2  20.6  73.2  44.2  14.6  91.8\n",
      "3  57.4   0.1  96.1   4.2  69.5\n",
      "4  83.6  20.5  85.4  22.8  35.9\n",
      "5  49.0  69.0   0.1  31.8  89.1\n",
      "6  23.3  40.7  95.0  83.8  26.9\n",
      "7  27.6  26.4  53.8  88.8  68.5\n",
      "8  96.6  96.4  53.4  72.4  50.1\n",
      "9  73.7  39.0  43.2  81.6  34.7\n"
     ]
    }
   ],
   "source": [
    "df = pd.DataFrame(b)\n",
    "print(df)"
   ]
  },
  {
   "cell_type": "markdown",
   "metadata": {},
   "source": [
    "### 5. Renombra las columnas del DataFrame basándote en los nombres de la lista a continuación."
   ]
  },
  {
   "cell_type": "code",
   "execution_count": 7,
   "metadata": {},
   "outputs": [],
   "source": [
    "b = [[53.1, 95.0, 67.5, 35.0, 78.4],\n",
    "     [61.3, 40.8, 30.8, 37.8, 87.6],\n",
    "     [20.6, 73.2, 44.2, 14.6, 91.8],\n",
    "     [57.4, 0.1, 96.1, 4.2, 69.5],\n",
    "     [83.6, 20.5, 85.4, 22.8, 35.9],\n",
    "     [49.0, 69.0, 0.1, 31.8, 89.1],\n",
    "     [23.3, 40.7, 95.0, 83.8, 26.9],\n",
    "     [27.6, 26.4, 53.8, 88.8, 68.5],\n",
    "     [96.6, 96.4, 53.4, 72.4, 50.1],\n",
    "     [73.7, 39.0, 43.2, 81.6, 34.7]]"
   ]
  },
  {
   "cell_type": "code",
   "execution_count": 11,
   "metadata": {},
   "outputs": [
    {
     "name": "stdout",
     "output_type": "stream",
     "text": [
      "   Score_1  Score_2  Score_3  Score_4  Score_5\n",
      "0     53.1     95.0     67.5     35.0     78.4\n",
      "1     61.3     40.8     30.8     37.8     87.6\n",
      "2     20.6     73.2     44.2     14.6     91.8\n",
      "3     57.4      0.1     96.1      4.2     69.5\n",
      "4     83.6     20.5     85.4     22.8     35.9\n",
      "5     49.0     69.0      0.1     31.8     89.1\n",
      "6     23.3     40.7     95.0     83.8     26.9\n",
      "7     27.6     26.4     53.8     88.8     68.5\n",
      "8     96.6     96.4     53.4     72.4     50.1\n",
      "9     73.7     39.0     43.2     81.6     34.7\n"
     ]
    }
   ],
   "source": [
    "columnas = ['Score_1', 'Score_2', 'Score_3', 'Score_4', 'Score_5']\n",
    "df.columns = columnas\n",
    "print(df)"
   ]
  },
  {
   "cell_type": "markdown",
   "metadata": {},
   "source": [
    "### 6. Crea un subconjunto de este DataFrame que contenga solo las columnas de Puntuación 1, 3 y 5."
   ]
  },
  {
   "cell_type": "code",
   "execution_count": 12,
   "metadata": {},
   "outputs": [
    {
     "name": "stdout",
     "output_type": "stream",
     "text": [
      "   Score_1  Score_3  Score_5\n",
      "0     53.1     67.5     78.4\n",
      "1     61.3     30.8     87.6\n",
      "2     20.6     44.2     91.8\n",
      "3     57.4     96.1     69.5\n",
      "4     83.6     85.4     35.9\n",
      "5     49.0      0.1     89.1\n",
      "6     23.3     95.0     26.9\n",
      "7     27.6     53.8     68.5\n",
      "8     96.6     53.4     50.1\n",
      "9     73.7     43.2     34.7\n"
     ]
    }
   ],
   "source": [
    "df_sub = df[['Score_1', 'Score_3', 'Score_5']]\n",
    "print(df_sub)"
   ]
  },
  {
   "cell_type": "markdown",
   "metadata": {},
   "source": [
    "### 7. Del DataFrame original, calcula el valor promedio de Score_3."
   ]
  },
  {
   "cell_type": "code",
   "execution_count": 13,
   "metadata": {},
   "outputs": [
    {
     "name": "stdout",
     "output_type": "stream",
     "text": [
      "El promedio de Score_3 es: 56.95000000000001\n"
     ]
    }
   ],
   "source": [
    "promedio_score_3 = df['Score_3'].mean()\n",
    "print(f\"El promedio de Score_3 es: {promedio_score_3}\")"
   ]
  },
  {
   "cell_type": "markdown",
   "metadata": {},
   "source": [
    "### 8. Del DataFrame original, calcula el máximo valor del Score_4."
   ]
  },
  {
   "cell_type": "code",
   "execution_count": 14,
   "metadata": {},
   "outputs": [
    {
     "name": "stdout",
     "output_type": "stream",
     "text": [
      "El valor máximo de Score_4 es: 88.8\n"
     ]
    }
   ],
   "source": [
    "max_score_4 = df['Score_4'].max()\n",
    "print(f\"El valor máximo de Score_4 es: {max_score_4}\")"
   ]
  },
  {
   "cell_type": "markdown",
   "metadata": {},
   "source": [
    "### 9. Del DataFrame original, calcula la media valor del Score_2."
   ]
  },
  {
   "cell_type": "code",
   "execution_count": 15,
   "metadata": {},
   "outputs": [
    {
     "name": "stdout",
     "output_type": "stream",
     "text": [
      "La media de Score_2 es: 50.11\n"
     ]
    }
   ],
   "source": [
    "media_score_2 = df['Score_2'].mean()\n",
    "print(f\"La media de Score_2 es: {media_score_2}\")"
   ]
  },
  {
   "cell_type": "markdown",
   "metadata": {},
   "source": [
    "### 10. Crea un DataFrame de Pandas a partir del diccionario de pedidos de productos a continuación."
   ]
  },
  {
   "cell_type": "code",
   "execution_count": 17,
   "metadata": {},
   "outputs": [],
   "source": [
    "orders = {'Description': ['LUNCH BAG APPLE DESIGN',\n",
    "  'SET OF 60 VINTAGE LEAF CAKE CASES ',\n",
    "  'RIBBON REEL STRIPES DESIGN ',\n",
    "  'WORLD WAR 2 GLIDERS ASSTD DESIGNS',\n",
    "  'PLAYING CARDS JUBILEE UNION JACK',\n",
    "  'POPCORN HOLDER',\n",
    "  'BOX OF VINTAGE ALPHABET BLOCKS',\n",
    "  'PARTY BUNTING',\n",
    "  'JAZZ HEARTS ADDRESS BOOK',\n",
    "  'SET OF 4 SANTA PLACE SETTINGS'],\n",
    " 'Quantity': [1, 24, 1, 2880, 2, 7, 1, 4, 10, 48],\n",
    " 'UnitPrice': [1.65, 0.55, 1.65, 0.18, 1.25, 0.85, 11.95, 4.95, 0.19, 1.25],\n",
    " 'Revenue': [1.65, 13.2, 1.65, 518.4, 2.5, 5.95, 11.95, 19.8, 1.9, 60.0]}"
   ]
  },
  {
   "cell_type": "code",
   "execution_count": 18,
   "metadata": {},
   "outputs": [
    {
     "name": "stdout",
     "output_type": "stream",
     "text": [
      "                          Description  Quantity  UnitPrice  Revenue\n",
      "0              LUNCH BAG APPLE DESIGN         1       1.65     1.65\n",
      "1  SET OF 60 VINTAGE LEAF CAKE CASES         24       0.55    13.20\n",
      "2         RIBBON REEL STRIPES DESIGN          1       1.65     1.65\n",
      "3   WORLD WAR 2 GLIDERS ASSTD DESIGNS      2880       0.18   518.40\n",
      "4    PLAYING CARDS JUBILEE UNION JACK         2       1.25     2.50\n",
      "5                      POPCORN HOLDER         7       0.85     5.95\n",
      "6      BOX OF VINTAGE ALPHABET BLOCKS         1      11.95    11.95\n",
      "7                       PARTY BUNTING         4       4.95    19.80\n",
      "8            JAZZ HEARTS ADDRESS BOOK        10       0.19     1.90\n",
      "9       SET OF 4 SANTA PLACE SETTINGS        48       1.25    60.00\n"
     ]
    }
   ],
   "source": [
    "df_orders = pd.DataFrame(orders)\n",
    "print(df_orders)"
   ]
  },
  {
   "cell_type": "markdown",
   "metadata": {},
   "source": [
    "### 11. Calcula la cantidad total pedida y los ingresos generados a partir de estos pedidos."
   ]
  },
  {
   "cell_type": "code",
   "execution_count": 19,
   "metadata": {},
   "outputs": [
    {
     "name": "stdout",
     "output_type": "stream",
     "text": [
      "Cantidad total pedida: 2978\n",
      "Ingresos totales generados: 637.0\n"
     ]
    }
   ],
   "source": [
    "total_quantity = df_orders['Quantity'].sum()\n",
    "total_revenue = df_orders['Revenue'].sum()\n",
    "\n",
    "print(f\"Cantidad total pedida: {total_quantity}\")\n",
    "print(f\"Ingresos totales generados: {total_revenue}\")"
   ]
  },
  {
   "cell_type": "markdown",
   "metadata": {},
   "source": [
    "### 12. Obten los precios del artículo más caro y del más barato pedidos e imprime la diferencia."
   ]
  },
  {
   "cell_type": "code",
   "execution_count": 20,
   "metadata": {},
   "outputs": [
    {
     "name": "stdout",
     "output_type": "stream",
     "text": [
      "La diferencia de precios entre el artículo más caro y el más barato es: 11.77\n"
     ]
    }
   ],
   "source": [
    "max_price = df_orders['UnitPrice'].max()\n",
    "min_price = df_orders['UnitPrice'].min()\n",
    "\n",
    "price_difference = max_price - min_price\n",
    "print(f\"La diferencia de precios entre el artículo más caro y el más barato es: {price_difference}\")"
   ]
  },
  {
   "cell_type": "markdown",
   "metadata": {},
   "source": [
    "## Carguemos otro conjunto de datos para más ejercicios"
   ]
  },
  {
   "cell_type": "code",
   "execution_count": 22,
   "metadata": {},
   "outputs": [],
   "source": [
    "import pandas as pd\n",
    "admissions = pd.read_csv('../Admission_Predict.csv')"
   ]
  },
  {
   "cell_type": "markdown",
   "metadata": {},
   "source": [
    "Evaluemos el conjunto de datos mirando la función `head`."
   ]
  },
  {
   "cell_type": "code",
   "execution_count": 23,
   "metadata": {},
   "outputs": [
    {
     "name": "stdout",
     "output_type": "stream",
     "text": [
      "   Serial No.  GRE Score  TOEFL Score  University Rating  SOP  LOR   CGPA  \\\n",
      "0           1        337          118                  4  4.5   4.5  9.65   \n",
      "1           2        316          104                  3  3.0   3.5  8.00   \n",
      "2           3        322          110                  3  3.5   2.5  8.67   \n",
      "3           4        314          103                  2  2.0   3.0  8.21   \n",
      "4           5        330          115                  5  4.5   3.0  9.34   \n",
      "\n",
      "   Research  Chance of Admit   \n",
      "0         1              0.92  \n",
      "1         1              0.72  \n",
      "2         1              0.80  \n",
      "3         0              0.65  \n",
      "4         1              0.90  \n"
     ]
    }
   ],
   "source": [
    "print(admissions.head())"
   ]
  },
  {
   "cell_type": "markdown",
   "metadata": {},
   "source": [
    "### 1 - Antes de comenzar a trabajar con este conjunto de datos y evaluar los datos de admisiones de posgrado, verificaremos que no haya datos faltantes en el conjunto de datos. Haz esto en la celda de abajo."
   ]
  },
  {
   "cell_type": "code",
   "execution_count": 24,
   "metadata": {},
   "outputs": [
    {
     "name": "stdout",
     "output_type": "stream",
     "text": [
      "Serial No.           0\n",
      "GRE Score            0\n",
      "TOEFL Score          0\n",
      "University Rating    0\n",
      "SOP                  0\n",
      "LOR                  0\n",
      "CGPA                 0\n",
      "Research             0\n",
      "Chance of Admit      0\n",
      "dtype: int64\n"
     ]
    }
   ],
   "source": [
    "print(admissions.isnull().sum())"
   ]
  },
  {
   "cell_type": "markdown",
   "metadata": {},
   "source": [
    "###  2 -  Curiosamente, hay una columna que identifica de manera única a los solicitantes. Esta columna es la columna de número de serie. En lugar de tener nuestro propio índice, deberíamos hacer de esta columna nuestro índice. Haz esto en la celda de abajo. Mantén la columna en el marco de datos además de hacerla un índice."
   ]
  },
  {
   "cell_type": "code",
   "execution_count": 25,
   "metadata": {},
   "outputs": [
    {
     "name": "stdout",
     "output_type": "stream",
     "text": [
      "            GRE Score  TOEFL Score  University Rating  SOP  LOR   CGPA  \\\n",
      "Serial No.                                                               \n",
      "1                 337          118                  4  4.5   4.5  9.65   \n",
      "2                 316          104                  3  3.0   3.5  8.00   \n",
      "3                 322          110                  3  3.5   2.5  8.67   \n",
      "4                 314          103                  2  2.0   3.0  8.21   \n",
      "5                 330          115                  5  4.5   3.0  9.34   \n",
      "\n",
      "            Research  Chance of Admit   \n",
      "Serial No.                              \n",
      "1                  1              0.92  \n",
      "2                  1              0.72  \n",
      "3                  1              0.80  \n",
      "4                  0              0.65  \n",
      "5                  1              0.90  \n"
     ]
    }
   ],
   "source": [
    "admissions.set_index('Serial No.', inplace=True)\n",
    "print(admissions.head())"
   ]
  },
  {
   "cell_type": "markdown",
   "metadata": {},
   "source": [
    "Resulta que `GRE Score` y `CGPA` también identifican de manera única los datos. Muestra esto en la celda de abajo.\n",
    "\n",
    "### 3 - En esta parte del laboratorio, nos gustaría probar condiciones complejas en todo el conjunto de datos de una vez. Comencemos encontrando el número de filas donde el CGPA es mayor a 9 y el estudiante ha realizado una investigación."
   ]
  },
  {
   "cell_type": "code",
   "execution_count": 32,
   "metadata": {
    "scrolled": true
   },
   "outputs": [
    {
     "name": "stdout",
     "output_type": "stream",
     "text": [
      "            GRE Score  TOEFL Score  University Rating  SOP  LOR   CGPA  \\\n",
      "Serial No.                                                               \n",
      "1                 337          118                  4  4.5   4.5  9.65   \n",
      "5                 330          115                  5  4.5   3.0  9.34   \n",
      "11                328          112                  4  4.0   4.5  9.10   \n",
      "20                328          116                  5  5.0   5.0  9.50   \n",
      "21                334          119                  5  5.0   4.5  9.70   \n",
      "...               ...          ...                ...  ...   ...   ...   \n",
      "380               329          111                  4  4.5   4.0  9.23   \n",
      "381               324          110                  3  3.5   3.5  9.04   \n",
      "382               325          107                  3  3.0   3.5  9.11   \n",
      "383               330          116                  4  5.0   4.5  9.45   \n",
      "385               333          117                  4  5.0   4.0  9.66   \n",
      "\n",
      "            Research  Chance of Admit   \n",
      "Serial No.                              \n",
      "1                  1              0.92  \n",
      "5                  1              0.90  \n",
      "11                 1              0.78  \n",
      "20                 1              0.94  \n",
      "21                 1              0.95  \n",
      "...              ...               ...  \n",
      "380                1              0.89  \n",
      "381                1              0.82  \n",
      "382                1              0.84  \n",
      "383                1              0.91  \n",
      "385                1              0.95  \n",
      "\n",
      "[101 rows x 8 columns]\n",
      "Número de filas donde CGPA > 9 y Research = 1: 101\n"
     ]
    }
   ],
   "source": [
    "condicion_cgpa = admissions['CGPA'] > 9\n",
    "condicion_research = admissions['Research'] == 1\n",
    "filtered_df = admissions[condicion_cgpa & condicion_research]\n",
    "print(filtered_df)\n",
    "print(f\"Número de filas donde CGPA > 9 y Research = 1: {filtered_df.shape[0]}\")"
   ]
  },
  {
   "cell_type": "markdown",
   "metadata": {},
   "source": [
    "### 4 - Ahora devuelve todas las filas donde el CGPA es mayor a 9 y la puntuación SOP es menor a 3.5. Encuentra la probabilidad media de admisión para estos solicitantes."
   ]
  },
  {
   "cell_type": "code",
   "execution_count": 27,
   "metadata": {},
   "outputs": [
    {
     "name": "stdout",
     "output_type": "stream",
     "text": [
      "Probabilidad media de admisión para estos solicitantes: 0.8019999999999999\n"
     ]
    }
   ],
   "source": [
    "filtered_sop = admissions[(admissions['CGPA'] > 9) & (admissions['SOP'] < 3.5)]\n",
    "mean_admission_prob = filtered_sop['Chance of Admit '].mean()\n",
    "print(f\"Probabilidad media de admisión para estos solicitantes: {mean_admission_prob}\")"
   ]
  }
 ],
 "metadata": {
  "kernelspec": {
   "display_name": "Python 3 (ipykernel)",
   "language": "python",
   "name": "python3"
  },
  "language_info": {
   "codemirror_mode": {
    "name": "ipython",
    "version": 3
   },
   "file_extension": ".py",
   "mimetype": "text/x-python",
   "name": "python",
   "nbconvert_exporter": "python",
   "pygments_lexer": "ipython3",
   "version": "3.12.8"
  },
  "toc": {
   "base_numbering": "",
   "nav_menu": {},
   "number_sections": false,
   "sideBar": true,
   "skip_h1_title": false,
   "title_cell": "Table of Contents",
   "title_sidebar": "Contents",
   "toc_cell": false,
   "toc_position": {},
   "toc_section_display": true,
   "toc_window_display": true
  }
 },
 "nbformat": 4,
 "nbformat_minor": 4
}

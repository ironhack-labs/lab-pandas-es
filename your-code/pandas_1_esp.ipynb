{
 "cells": [
  {
   "cell_type": "markdown",
   "metadata": {},
   "source": [
    "# Laboratorio de Introducción a Pandas\n",
    "\n",
    "Completa el siguiente conjunto de ejercicios para consolidar tu conocimiento de los fundamentos de Pandas.\n",
    "\n",
    "### 1. Importa Numpy y Pandas y asígnalos los alias `np` y `pd` respectivamente."
   ]
  },
  {
   "cell_type": "code",
   "execution_count": 1,
   "metadata": {},
   "outputs": [],
   "source": [
    "import pandas as pd\n",
    "import numpy as np"
   ]
  },
  {
   "cell_type": "markdown",
   "metadata": {},
   "source": [
    "### 2. Crea una Serie de Pandas que contenga los elementos de la lista a continuación."
   ]
  },
  {
   "cell_type": "code",
   "execution_count": 4,
   "metadata": {},
   "outputs": [],
   "source": [
    "lst = [5.7, 75.2, 74.4, 84.0, 66.5, 66.3, 55.8, 75.7, 29.1, 43.7]"
   ]
  },
  {
   "cell_type": "code",
   "execution_count": 6,
   "metadata": {},
   "outputs": [
    {
     "name": "stdout",
     "output_type": "stream",
     "text": [
      "0     5.7\n",
      "1    75.2\n",
      "2    74.4\n",
      "3    84.0\n",
      "4    66.5\n",
      "5    66.3\n",
      "6    55.8\n",
      "7    75.7\n",
      "8    29.1\n",
      "9    43.7\n",
      "dtype: float64\n"
     ]
    }
   ],
   "source": [
    "# Crear la Serie de Pandas\n",
    "serie = pd.Series(lst)\n",
    "\n",
    "# Mostrar la Serie\n",
    "print(serie)\n",
    "\n"
   ]
  },
  {
   "cell_type": "markdown",
   "metadata": {},
   "source": [
    "### 3. Usa la indexación para devolver el tercer valor en la Serie anterior.\n",
    "\n",
    "*Sugerencia: Recuerda que la indexación comienza en 0.*"
   ]
  },
  {
   "cell_type": "code",
   "execution_count": 8,
   "metadata": {},
   "outputs": [
    {
     "name": "stdout",
     "output_type": "stream",
     "text": [
      "El tercer valor es: \n",
      "74.4\n"
     ]
    }
   ],
   "source": [
    "# Imprimir el tercer valor que es index 2 porque el primer valor es index 0\n",
    "print(\"El tercer valor es: \")\n",
    "print(serie[2])"
   ]
  },
  {
   "cell_type": "markdown",
   "metadata": {},
   "source": [
    "### 4. Crea un DataFrame de Pandas a partir de la lista de listas a continuación. Cada sublista debe representarse como una fila."
   ]
  },
  {
   "cell_type": "code",
   "execution_count": 9,
   "metadata": {},
   "outputs": [],
   "source": [
    "b = [[53.1, 95.0, 67.5, 35.0, 78.4],\n",
    "     [61.3, 40.8, 30.8, 37.8, 87.6],\n",
    "     [20.6, 73.2, 44.2, 14.6, 91.8],\n",
    "     [57.4, 0.1, 96.1, 4.2, 69.5],\n",
    "     [83.6, 20.5, 85.4, 22.8, 35.9],\n",
    "     [49.0, 69.0, 0.1, 31.8, 89.1],\n",
    "     [23.3, 40.7, 95.0, 83.8, 26.9],\n",
    "     [27.6, 26.4, 53.8, 88.8, 68.5],\n",
    "     [96.6, 96.4, 53.4, 72.4, 50.1],\n",
    "     [73.7, 39.0, 43.2, 81.6, 34.7]]"
   ]
  },
  {
   "cell_type": "code",
   "execution_count": 11,
   "metadata": {},
   "outputs": [
    {
     "name": "stdout",
     "output_type": "stream",
     "text": [
      "      0     1     2     3     4\n",
      "0  53.1  95.0  67.5  35.0  78.4\n",
      "1  61.3  40.8  30.8  37.8  87.6\n",
      "2  20.6  73.2  44.2  14.6  91.8\n",
      "3  57.4   0.1  96.1   4.2  69.5\n",
      "4  83.6  20.5  85.4  22.8  35.9\n",
      "5  49.0  69.0   0.1  31.8  89.1\n",
      "6  23.3  40.7  95.0  83.8  26.9\n",
      "7  27.6  26.4  53.8  88.8  68.5\n",
      "8  96.6  96.4  53.4  72.4  50.1\n",
      "9  73.7  39.0  43.2  81.6  34.7\n"
     ]
    }
   ],
   "source": [
    "df = pd.DataFrame(b)\n",
    "print(df)\n"
   ]
  },
  {
   "cell_type": "markdown",
   "metadata": {},
   "source": [
    "### 5. Renombra las columnas del DataFrame basándote en los nombres de la lista a continuación."
   ]
  },
  {
   "cell_type": "code",
   "execution_count": 14,
   "metadata": {},
   "outputs": [],
   "source": [
    "\"\"\"  \n",
    "en el ejercicio 5 falta el nombre de las columnas\n",
    "colnames = ['Score_1', 'Score_2', 'Score_3', 'Score_4', 'Score_5']\n",
    "\"\"\"\n",
    "colnames = ['Score_1', 'Score_2', 'Score_3', 'Score_4', 'Score_5']\n"
   ]
  },
  {
   "cell_type": "code",
   "execution_count": 17,
   "metadata": {},
   "outputs": [
    {
     "name": "stdout",
     "output_type": "stream",
     "text": [
      "   Score_1  Score_2  Score_3  Score_4  Score_5\n",
      "0     53.1     95.0     67.5     35.0     78.4\n",
      "1     61.3     40.8     30.8     37.8     87.6\n",
      "2     20.6     73.2     44.2     14.6     91.8\n",
      "3     57.4      0.1     96.1      4.2     69.5\n",
      "4     83.6     20.5     85.4     22.8     35.9\n",
      "5     49.0     69.0      0.1     31.8     89.1\n",
      "6     23.3     40.7     95.0     83.8     26.9\n",
      "7     27.6     26.4     53.8     88.8     68.5\n",
      "8     96.6     96.4     53.4     72.4     50.1\n",
      "9     73.7     39.0     43.2     81.6     34.7\n"
     ]
    }
   ],
   "source": [
    "# Añadir colnames como nombre de columnas de df\n",
    "\n",
    "df.columns = colnames\n",
    "print(df)"
   ]
  },
  {
   "cell_type": "markdown",
   "metadata": {},
   "source": [
    "### 6. Crea un subconjunto de este DataFrame que contenga solo las columnas de Puntuación 1, 3 y 5."
   ]
  },
  {
   "cell_type": "code",
   "execution_count": 27,
   "metadata": {},
   "outputs": [
    {
     "name": "stdout",
     "output_type": "stream",
     "text": [
      "(10, 5)\n",
      "   Score_1  Score_3  Score_5\n",
      "0     53.1     67.5     78.4\n",
      "1     61.3     30.8     87.6\n",
      "2     20.6     44.2     91.8\n",
      "3     57.4     96.1     69.5\n",
      "4     83.6     85.4     35.9\n",
      "5     49.0      0.1     89.1\n",
      "6     23.3     95.0     26.9\n",
      "7     27.6     53.8     68.5\n",
      "8     96.6     53.4     50.1\n",
      "9     73.7     43.2     34.7\n"
     ]
    }
   ],
   "source": [
    "print(df.shape)\n",
    "\n",
    "\"\"\"\n",
    ".iloc[] syntax is df.iloc[rows, columns], columns are the 2nd argument\n",
    "to select all the rows (everything) we need to use \":\"\n",
    "In .iloc[] or .loc[]:\n",
    "The colon means select everything in that dimension.\n",
    ": before the comma means all rows.\n",
    ": after the comma means all columns.\n",
    "\"\"\"\n",
    "\n",
    "subset_columns = df.iloc[:,[0,2,4]]\n",
    "print(subset_columns)"
   ]
  },
  {
   "cell_type": "markdown",
   "metadata": {},
   "source": [
    "### 7. Del DataFrame original, calcula el valor promedio de Score_3."
   ]
  },
  {
   "cell_type": "code",
   "execution_count": 28,
   "metadata": {},
   "outputs": [
    {
     "name": "stdout",
     "output_type": "stream",
     "text": [
      "El valor promedio de Score_3 es: 56.95000000000001\n"
     ]
    }
   ],
   "source": [
    "# Calcular el valor promedio de la columna 'Score_3'. df['Score_3']: Selecciona la columna Score_3 del DataFrame.\n",
    "average_score_3 = df['Score_3'].mean()\n",
    "\n",
    "# Mostrar el resultado\n",
    "print(\"El valor promedio de Score_3 es:\", average_score_3)"
   ]
  },
  {
   "cell_type": "markdown",
   "metadata": {},
   "source": [
    "### 8. Del DataFrame original, calcula el máximo valor del Score_4."
   ]
  },
  {
   "cell_type": "code",
   "execution_count": 29,
   "metadata": {},
   "outputs": [
    {
     "name": "stdout",
     "output_type": "stream",
     "text": [
      "El valor maximo de Score_4 es: 88.8\n"
     ]
    }
   ],
   "source": [
    "# Calcular el valor max de la columna 'Score_4'. df['Score_4']: Selecciona la columna Score_4 del DataFrame.\n",
    "max_score_4 = df['Score_4'].max()\n",
    "\n",
    "# Mostrar el resultado\n",
    "print(\"El valor maximo de Score_4 es:\", max_score_4)"
   ]
  },
  {
   "cell_type": "markdown",
   "metadata": {},
   "source": [
    "### 9. Del DataFrame original, calcula la mediana valor del Score_2."
   ]
  },
  {
   "cell_type": "code",
   "execution_count": 30,
   "metadata": {},
   "outputs": [
    {
     "name": "stdout",
     "output_type": "stream",
     "text": [
      "La mediana de Score_2 es: 40.75\n"
     ]
    }
   ],
   "source": [
    "# Calcular la mediana de la columna 'Score_2'\n",
    "median_score_2 = df['Score_2'].median()\n",
    "\n",
    "# Mostrar el resultado\n",
    "print(\"La mediana de Score_2 es:\", median_score_2)"
   ]
  },
  {
   "cell_type": "markdown",
   "metadata": {},
   "source": [
    "### 10. Crea un DataFrame de Pandas a partir del diccionario de pedidos de productos a continuación."
   ]
  },
  {
   "cell_type": "code",
   "execution_count": 32,
   "metadata": {},
   "outputs": [],
   "source": [
    "orders = {'Description': ['LUNCH BAG APPLE DESIGN',\n",
    "  'SET OF 60 VINTAGE LEAF CAKE CASES ',\n",
    "  'RIBBON REEL STRIPES DESIGN ',\n",
    "  'WORLD WAR 2 GLIDERS ASSTD DESIGNS',\n",
    "  'PLAYING CARDS JUBILEE UNION JACK',\n",
    "  'POPCORN HOLDER',\n",
    "  'BOX OF VINTAGE ALPHABET BLOCKS',\n",
    "  'PARTY BUNTING',\n",
    "  'JAZZ HEARTS ADDRESS BOOK',\n",
    "  'SET OF 4 SANTA PLACE SETTINGS'],\n",
    " 'Quantity': [1, 24, 1, 2880, 2, 7, 1, 4, 10, 48],\n",
    " 'UnitPrice': [1.65, 0.55, 1.65, 0.18, 1.25, 0.85, 11.95, 4.95, 0.19, 1.25],\n",
    " 'Revenue': [1.65, 13.2, 1.65, 518.4, 2.5, 5.95, 11.95, 19.8, 1.9, 60.0]}"
   ]
  },
  {
   "cell_type": "code",
   "execution_count": 33,
   "metadata": {},
   "outputs": [
    {
     "data": {
      "text/html": [
       "<div>\n",
       "<style scoped>\n",
       "    .dataframe tbody tr th:only-of-type {\n",
       "        vertical-align: middle;\n",
       "    }\n",
       "\n",
       "    .dataframe tbody tr th {\n",
       "        vertical-align: top;\n",
       "    }\n",
       "\n",
       "    .dataframe thead th {\n",
       "        text-align: right;\n",
       "    }\n",
       "</style>\n",
       "<table border=\"1\" class=\"dataframe\">\n",
       "  <thead>\n",
       "    <tr style=\"text-align: right;\">\n",
       "      <th></th>\n",
       "      <th>Description</th>\n",
       "      <th>Quantity</th>\n",
       "      <th>UnitPrice</th>\n",
       "      <th>Revenue</th>\n",
       "    </tr>\n",
       "  </thead>\n",
       "  <tbody>\n",
       "    <tr>\n",
       "      <th>0</th>\n",
       "      <td>LUNCH BAG APPLE DESIGN</td>\n",
       "      <td>1</td>\n",
       "      <td>1.65</td>\n",
       "      <td>1.65</td>\n",
       "    </tr>\n",
       "    <tr>\n",
       "      <th>1</th>\n",
       "      <td>SET OF 60 VINTAGE LEAF CAKE CASES</td>\n",
       "      <td>24</td>\n",
       "      <td>0.55</td>\n",
       "      <td>13.20</td>\n",
       "    </tr>\n",
       "    <tr>\n",
       "      <th>2</th>\n",
       "      <td>RIBBON REEL STRIPES DESIGN</td>\n",
       "      <td>1</td>\n",
       "      <td>1.65</td>\n",
       "      <td>1.65</td>\n",
       "    </tr>\n",
       "    <tr>\n",
       "      <th>3</th>\n",
       "      <td>WORLD WAR 2 GLIDERS ASSTD DESIGNS</td>\n",
       "      <td>2880</td>\n",
       "      <td>0.18</td>\n",
       "      <td>518.40</td>\n",
       "    </tr>\n",
       "    <tr>\n",
       "      <th>4</th>\n",
       "      <td>PLAYING CARDS JUBILEE UNION JACK</td>\n",
       "      <td>2</td>\n",
       "      <td>1.25</td>\n",
       "      <td>2.50</td>\n",
       "    </tr>\n",
       "    <tr>\n",
       "      <th>5</th>\n",
       "      <td>POPCORN HOLDER</td>\n",
       "      <td>7</td>\n",
       "      <td>0.85</td>\n",
       "      <td>5.95</td>\n",
       "    </tr>\n",
       "    <tr>\n",
       "      <th>6</th>\n",
       "      <td>BOX OF VINTAGE ALPHABET BLOCKS</td>\n",
       "      <td>1</td>\n",
       "      <td>11.95</td>\n",
       "      <td>11.95</td>\n",
       "    </tr>\n",
       "    <tr>\n",
       "      <th>7</th>\n",
       "      <td>PARTY BUNTING</td>\n",
       "      <td>4</td>\n",
       "      <td>4.95</td>\n",
       "      <td>19.80</td>\n",
       "    </tr>\n",
       "    <tr>\n",
       "      <th>8</th>\n",
       "      <td>JAZZ HEARTS ADDRESS BOOK</td>\n",
       "      <td>10</td>\n",
       "      <td>0.19</td>\n",
       "      <td>1.90</td>\n",
       "    </tr>\n",
       "    <tr>\n",
       "      <th>9</th>\n",
       "      <td>SET OF 4 SANTA PLACE SETTINGS</td>\n",
       "      <td>48</td>\n",
       "      <td>1.25</td>\n",
       "      <td>60.00</td>\n",
       "    </tr>\n",
       "  </tbody>\n",
       "</table>\n",
       "</div>"
      ],
      "text/plain": [
       "                          Description  Quantity  UnitPrice  Revenue\n",
       "0              LUNCH BAG APPLE DESIGN         1       1.65     1.65\n",
       "1  SET OF 60 VINTAGE LEAF CAKE CASES         24       0.55    13.20\n",
       "2         RIBBON REEL STRIPES DESIGN          1       1.65     1.65\n",
       "3   WORLD WAR 2 GLIDERS ASSTD DESIGNS      2880       0.18   518.40\n",
       "4    PLAYING CARDS JUBILEE UNION JACK         2       1.25     2.50\n",
       "5                      POPCORN HOLDER         7       0.85     5.95\n",
       "6      BOX OF VINTAGE ALPHABET BLOCKS         1      11.95    11.95\n",
       "7                       PARTY BUNTING         4       4.95    19.80\n",
       "8            JAZZ HEARTS ADDRESS BOOK        10       0.19     1.90\n",
       "9       SET OF 4 SANTA PLACE SETTINGS        48       1.25    60.00"
      ]
     },
     "execution_count": 33,
     "metadata": {},
     "output_type": "execute_result"
    }
   ],
   "source": [
    "#Crear un DataFrame de Pandas a partir del diccionario \"orders\"\n",
    "df = pd.DataFrame(orders)\n",
    "df"
   ]
  },
  {
   "cell_type": "markdown",
   "metadata": {},
   "source": [
    "### 11. Calcula la cantidad total pedida y los ingresos generados a partir de estos pedidos."
   ]
  },
  {
   "cell_type": "code",
   "execution_count": 34,
   "metadata": {},
   "outputs": [
    {
     "name": "stdout",
     "output_type": "stream",
     "text": [
      "Cantidad total pedida: 2978\n",
      "Ingresos totales generados: 637.0\n"
     ]
    }
   ],
   "source": [
    "# Calcular la cantidad total pedida\n",
    "total_quantity = df['Quantity'].sum()\n",
    "\n",
    "# Calcular los ingresos generados (cantidad * precio)\n",
    "total_revenue = df['Revenue'].sum()  # Sumamos los ingresos generados\n",
    "\n",
    "# Mostrar los resultados\n",
    "print(\"Cantidad total pedida:\", total_quantity)\n",
    "print(\"Ingresos totales generados:\", total_revenue)"
   ]
  },
  {
   "cell_type": "markdown",
   "metadata": {},
   "source": [
    "### 12. Obten los precios del artículo más caro y del más barato pedidos e imprime la diferencia."
   ]
  },
  {
   "cell_type": "code",
   "execution_count": 39,
   "metadata": {},
   "outputs": [
    {
     "name": "stdout",
     "output_type": "stream",
     "text": [
      "El precio maximo es:  11.95\n",
      "El precio minimo es:  0.18\n",
      "la diferencia entre el precio minimo y el precio maximo es  11.77\n"
     ]
    }
   ],
   "source": [
    "# precio del artículo más caro\n",
    "precio_max = df['UnitPrice'].max()\n",
    "print(\"El precio maximo es: \", precio_max) \n",
    "\n",
    "# precio del artículo más barato\n",
    "precio_min = df['UnitPrice'].min()\n",
    "print(\"El precio minimo es: \", precio_min) \n",
    "\n",
    "#diferencia\n",
    "diferencia_precio_max_min = precio_max - precio_min\n",
    "print(\"la diferencia entre el precio minimo y el precio maximo es \", diferencia_precio_max_min)"
   ]
  },
  {
   "cell_type": "markdown",
   "metadata": {},
   "source": [
    "## Carguemos otro conjunto de datos para más ejercicios"
   ]
  },
  {
   "cell_type": "code",
   "execution_count": 40,
   "metadata": {},
   "outputs": [],
   "source": [
    "# Tu código aquí\n",
    "admissions = pd.read_csv('../Admission_Predict.csv')"
   ]
  },
  {
   "cell_type": "markdown",
   "metadata": {},
   "source": [
    "Evaluemos el conjunto de datos mirando la función `head`."
   ]
  },
  {
   "cell_type": "code",
   "execution_count": 41,
   "metadata": {},
   "outputs": [
    {
     "data": {
      "text/html": [
       "<div>\n",
       "<style scoped>\n",
       "    .dataframe tbody tr th:only-of-type {\n",
       "        vertical-align: middle;\n",
       "    }\n",
       "\n",
       "    .dataframe tbody tr th {\n",
       "        vertical-align: top;\n",
       "    }\n",
       "\n",
       "    .dataframe thead th {\n",
       "        text-align: right;\n",
       "    }\n",
       "</style>\n",
       "<table border=\"1\" class=\"dataframe\">\n",
       "  <thead>\n",
       "    <tr style=\"text-align: right;\">\n",
       "      <th></th>\n",
       "      <th>Serial No.</th>\n",
       "      <th>GRE Score</th>\n",
       "      <th>TOEFL Score</th>\n",
       "      <th>University Rating</th>\n",
       "      <th>SOP</th>\n",
       "      <th>LOR</th>\n",
       "      <th>CGPA</th>\n",
       "      <th>Research</th>\n",
       "      <th>Chance of Admit</th>\n",
       "    </tr>\n",
       "  </thead>\n",
       "  <tbody>\n",
       "    <tr>\n",
       "      <th>0</th>\n",
       "      <td>1</td>\n",
       "      <td>337</td>\n",
       "      <td>118</td>\n",
       "      <td>4</td>\n",
       "      <td>4.5</td>\n",
       "      <td>4.5</td>\n",
       "      <td>9.65</td>\n",
       "      <td>1</td>\n",
       "      <td>0.92</td>\n",
       "    </tr>\n",
       "    <tr>\n",
       "      <th>1</th>\n",
       "      <td>2</td>\n",
       "      <td>316</td>\n",
       "      <td>104</td>\n",
       "      <td>3</td>\n",
       "      <td>3.0</td>\n",
       "      <td>3.5</td>\n",
       "      <td>8.00</td>\n",
       "      <td>1</td>\n",
       "      <td>0.72</td>\n",
       "    </tr>\n",
       "    <tr>\n",
       "      <th>2</th>\n",
       "      <td>3</td>\n",
       "      <td>322</td>\n",
       "      <td>110</td>\n",
       "      <td>3</td>\n",
       "      <td>3.5</td>\n",
       "      <td>2.5</td>\n",
       "      <td>8.67</td>\n",
       "      <td>1</td>\n",
       "      <td>0.80</td>\n",
       "    </tr>\n",
       "    <tr>\n",
       "      <th>3</th>\n",
       "      <td>4</td>\n",
       "      <td>314</td>\n",
       "      <td>103</td>\n",
       "      <td>2</td>\n",
       "      <td>2.0</td>\n",
       "      <td>3.0</td>\n",
       "      <td>8.21</td>\n",
       "      <td>0</td>\n",
       "      <td>0.65</td>\n",
       "    </tr>\n",
       "    <tr>\n",
       "      <th>4</th>\n",
       "      <td>5</td>\n",
       "      <td>330</td>\n",
       "      <td>115</td>\n",
       "      <td>5</td>\n",
       "      <td>4.5</td>\n",
       "      <td>3.0</td>\n",
       "      <td>9.34</td>\n",
       "      <td>1</td>\n",
       "      <td>0.90</td>\n",
       "    </tr>\n",
       "  </tbody>\n",
       "</table>\n",
       "</div>"
      ],
      "text/plain": [
       "   Serial No.  GRE Score  TOEFL Score  University Rating  SOP  LOR   CGPA  \\\n",
       "0           1        337          118                  4  4.5   4.5  9.65   \n",
       "1           2        316          104                  3  3.0   3.5  8.00   \n",
       "2           3        322          110                  3  3.5   2.5  8.67   \n",
       "3           4        314          103                  2  2.0   3.0  8.21   \n",
       "4           5        330          115                  5  4.5   3.0  9.34   \n",
       "\n",
       "   Research  Chance of Admit   \n",
       "0         1              0.92  \n",
       "1         1              0.72  \n",
       "2         1              0.80  \n",
       "3         0              0.65  \n",
       "4         1              0.90  "
      ]
     },
     "execution_count": 41,
     "metadata": {},
     "output_type": "execute_result"
    }
   ],
   "source": [
    "#Evaluemos el conjunto de datos mirando la función head\n",
    "admissions.head()\n"
   ]
  },
  {
   "cell_type": "markdown",
   "metadata": {},
   "source": [
    "### 1 - Antes de comenzar a trabajar con este conjunto de datos y evaluar los datos de admisiones de posgrado, verificaremos que no haya datos faltantes en el conjunto de datos. Haz esto en la celda de abajo."
   ]
  },
  {
   "cell_type": "code",
   "execution_count": 44,
   "metadata": {},
   "outputs": [
    {
     "name": "stdout",
     "output_type": "stream",
     "text": [
      "Cantidad de datos faltantes en cada columna:\n",
      "Serial No.           0\n",
      "GRE Score            0\n",
      "TOEFL Score          0\n",
      "University Rating    0\n",
      "SOP                  0\n",
      "LOR                  0\n",
      "CGPA                 0\n",
      "Research             0\n",
      "Chance of Admit      0\n",
      "dtype: int64\n"
     ]
    }
   ],
   "source": [
    "# Verificar si hay datos faltantes en el DataFrame\n",
    "\"\"\"\n",
    "df.isnull(): Devuelve un DataFrame de la misma forma que el original, pero con valores True en las posiciones donde hay datos faltantes (NaN) y False donde no los hay.\n",
    ".sum(): Suma los valores True (que se cuentan como 1) por cada columna, lo que da como resultado la cantidad de valores faltantes en cada columna.\n",
    "\"\"\"\n",
    "missing_data = admissions.isnull().sum()\n",
    "\n",
    "# Mostrar los resultados\n",
    "print(\"Cantidad de datos faltantes en cada columna:\")\n",
    "print(missing_data)"
   ]
  },
  {
   "cell_type": "markdown",
   "metadata": {},
   "source": [
    "###  2 -  Curiosamente, hay una columna que identifica de manera única a los solicitantes. Esta columna es la columna de número de serie. En lugar de tener nuestro propio índice, deberíamos hacer de esta columna nuestro índice. Haz esto en la celda de abajo. Mantén la columna en el marco de datos además de hacerla un índice."
   ]
  },
  {
   "cell_type": "code",
   "execution_count": 50,
   "metadata": {
    "scrolled": true
   },
   "outputs": [
    {
     "name": "stdout",
     "output_type": "stream",
     "text": [
      "            Serial No.  GRE Score  TOEFL Score  University Rating  SOP  LOR   \\\n",
      "Serial No.                                                                     \n",
      "1                    1        337          118                  4  4.5   4.5   \n",
      "2                    2        316          104                  3  3.0   3.5   \n",
      "3                    3        322          110                  3  3.5   2.5   \n",
      "4                    4        314          103                  2  2.0   3.0   \n",
      "5                    5        330          115                  5  4.5   3.0   \n",
      "\n",
      "            CGPA  Research  Chance of Admit   \n",
      "Serial No.                                    \n",
      "1           9.65         1              0.92  \n",
      "2           8.00         1              0.72  \n",
      "3           8.67         1              0.80  \n",
      "4           8.21         0              0.65  \n",
      "5           9.34         1              0.90  \n"
     ]
    }
   ],
   "source": [
    "# La columna que identifica a los solicitantes se llama 'Serial No.'\n",
    "\"\"\"\n",
    "Para hacer que una columna sea tanto el índice del DataFrame como parte del DataFrame, se utiliza el método set_index(). \n",
    "Este método establece la columna como índice, pero si queremos mantenerla en el DataFrame además de convertirla en índice, \n",
    "hay que usar el argumento drop=False de set_index().\n",
    "\"\"\"\n",
    "admissions = admissions.set_index('Serial No.', drop=False)\n",
    "\n",
    "# Mostrar el DataFrame con la columna como índice pero aún presente\n",
    "print(admissions.head())"
   ]
  },
  {
   "cell_type": "code",
   "execution_count": null,
   "metadata": {},
   "outputs": [],
   "source": [
    "### 3 -  Resulta que `GRE Score` y `CGPA` también identifican de manera única los datos. Muestra esto en la celda de abajo."
   ]
  },
  {
   "cell_type": "code",
   "execution_count": 57,
   "metadata": {},
   "outputs": [
    {
     "name": "stdout",
     "output_type": "stream",
     "text": [
      "En la columna 'GRE Score' de 'admissions', hay 336 valores duplicados.\n",
      "En la columna 'CGPA' de 'admissions', hay 217 valores duplicados.\n",
      "En la columna 'Serial no.' de 'admissions', hay 0 valores duplicados.\n"
     ]
    }
   ],
   "source": [
    "# No es verdad que `GRE Score` y `CGPA` también identifican de manera única los datos:\n",
    "\"\"\"\n",
    "En la columna 'Serial no.' de 'admissions', hay 0 valores duplicados.\n",
    "Pero\n",
    "En la columna 'GRE Score' de 'admissions', hay 336 valores duplicados.\n",
    "En la columna 'CGPA' de 'admissions', hay 217 valores duplicados.\n",
    "\n",
    "\"\"\"\n",
    "    \n",
    "# Verificar si hay duplicados en la columna 'GRE Score' del DataFrame 'admissions'\n",
    "duplicates_gre_score = admissions['GRE Score'].duplicated()\n",
    "\n",
    "# Contar cuántos duplicados hay\n",
    "num_duplicates_gre_score = duplicates_gre_score.sum()\n",
    "\n",
    "# Mostrar el resultado\n",
    "print(f\"En la columna 'GRE Score' de 'admissions', hay {num_duplicates_gre_score} valores duplicados.\")\n",
    "\n",
    "# Verificar si hay duplicados en la columna 'CGPA' del DataFrame 'admissions'\n",
    "duplicates_cgpa = admissions['CGPA'].duplicated()\n",
    "\n",
    "# Contar cuántos duplicados hay\n",
    "num_duplicates_cgpa = duplicates_cgpa.sum()\n",
    "\n",
    "# Mostrar el resultado\n",
    "print(f\"En la columna 'CGPA' de 'admissions', hay {num_duplicates_cgpa} valores duplicados.\")   \n",
    "\n",
    "# Verificar si hay duplicados en la columna 'Serail No.' del DataFrame 'admissions'\n",
    "duplicates_serial_no = admissions['Serial No.'].duplicated()\n",
    "\n",
    "# Contar cuántos duplicados hay\n",
    "num_duplicates_serial_no = duplicates_serial_no.sum()\n",
    "\n",
    "# Mostrar el resultado\n",
    "print(f\"En la columna 'Serial no.' de 'admissions', hay {num_duplicates_serial_no} valores duplicados.\")"
   ]
  },
  {
   "cell_type": "markdown",
   "metadata": {},
   "source": [
    "Resulta que `GRE Score` y `CGPA` también identifican de manera única los datos. Muestra esto en la celda de abajo.\n",
    "\n",
    "### 3 - En esta parte del laboratorio, nos gustaría probar condiciones complejas en todo el conjunto de datos de una vez. Comencemos encontrando el número de filas donde el CGPA es mayor a 9 y el estudiante ha realizado una investigación."
   ]
  },
  {
   "cell_type": "code",
   "execution_count": 58,
   "metadata": {
    "scrolled": true
   },
   "outputs": [
    {
     "name": "stdout",
     "output_type": "stream",
     "text": [
      "Número de filas donde el CGPA es mayor a 9 y el estudiante ha realizado investigación: 101\n"
     ]
    }
   ],
   "source": [
    "# Filtrar filas donde CGPA > 9 y el estudiante ha realizado investigación (Research = 'Yes')\n",
    "\"\"\"\n",
    "Suponiendo que cuando el estudiante ha realizado una investigación pone 1 el la columna research, y si no ha hecho research, pone 0\n",
    "\"\"\"\n",
    "\n",
    "filtered_data = admissions[(admissions['CGPA'] > 9) & (admissions['Research'] == 1)]\n",
    "\n",
    "# Contar cuántas filas cumplen con ambas condiciones\n",
    "num_rows = filtered_data.shape[0]\n",
    "\n",
    "# Mostrar el resultado\n",
    "print(f\"Número de filas donde el CGPA es mayor a 9 y el estudiante ha realizado investigación: {num_rows}\")"
   ]
  },
  {
   "cell_type": "markdown",
   "metadata": {},
   "source": [
    "### 4 - Ahora devuelve todas las filas donde el CGPA es mayor a 9 y la puntuación SOP es menor a 3.5. Encuentra la probabilidad media de admisión para estos solicitantes."
   ]
  },
  {
   "cell_type": "code",
   "execution_count": 61,
   "metadata": {},
   "outputs": [
    {
     "name": "stdout",
     "output_type": "stream",
     "text": [
      "Index(['Serial No.', 'GRE Score', 'TOEFL Score', 'University Rating', 'SOP',\n",
      "       'LOR ', 'CGPA', 'Research', 'Chance of Admit '],\n",
      "      dtype='object')\n"
     ]
    }
   ],
   "source": [
    "print(admissions.columns)\n",
    "\n",
    "\"\"\" Jp no reconocía 'Chance of Admit' por culpa del espacio, \n",
    "por eso he hecho print columns para averiguar si lo he escrito mal\n",
    "\"\"\""
   ]
  },
  {
   "cell_type": "code",
   "execution_count": 63,
   "metadata": {},
   "outputs": [
    {
     "name": "stdout",
     "output_type": "stream",
     "text": [
      "La probabilidad media de admisión para los solicitantes con CGPA > 9 y SOP < 3.5 es: 80.19999999999999%\n"
     ]
    }
   ],
   "source": [
    "\"\"\"\n",
    "1. Filtrar las filas donde el CGPA sea mayor a 9 y la puntuación SOP sea menor a 3.5.\n",
    "2. Calcular la probabilidad media de admisión para estos solicitantes.\n",
    "Pasos:\n",
    "1. Condición 1: CGPA > 9\n",
    "2. Condición 2: SOP < 3.5\n",
    "3. Calcular el promedio (average) de las valores en Chance of Admit para los solicitantes que cumplen con ambas condiciones.\n",
    "\"\"\"\n",
    "\n",
    "# Filtrar filas donde CGPA > 9 y SOP < 3.5\n",
    "filtered_data = admissions[(admissions['CGPA'] > 9) & (admissions['SOP'] < 3.5)]\n",
    "\n",
    "# Calcular la probabilidad media de admisión para estos solicitantes\n",
    "mean_admission_prob = filtered_data['Chance of Admit '].mean()*100 #hay que poner el espacio\n",
    "\n",
    "# Mostrar el resultado\n",
    "print(f\"La probabilidad media de admisión para los solicitantes con CGPA > 9 y SOP < 3.5 es: {mean_admission_prob}%\")\n",
    "\n"
   ]
  },
  {
   "cell_type": "code",
   "execution_count": null,
   "metadata": {},
   "outputs": [],
   "source": []
  }
 ],
 "metadata": {
  "kernelspec": {
   "display_name": "Python 3 (ipykernel)",
   "language": "python",
   "name": "python3"
  },
  "language_info": {
   "codemirror_mode": {
    "name": "ipython",
    "version": 3
   },
   "file_extension": ".py",
   "mimetype": "text/x-python",
   "name": "python",
   "nbconvert_exporter": "python",
   "pygments_lexer": "ipython3",
   "version": "3.12.8"
  },
  "toc": {
   "base_numbering": "",
   "nav_menu": {},
   "number_sections": false,
   "sideBar": true,
   "skip_h1_title": false,
   "title_cell": "Table of Contents",
   "title_sidebar": "Contents",
   "toc_cell": false,
   "toc_position": {},
   "toc_section_display": true,
   "toc_window_display": true
  }
 },
 "nbformat": 4,
 "nbformat_minor": 4
}
